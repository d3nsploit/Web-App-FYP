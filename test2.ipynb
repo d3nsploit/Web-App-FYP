{
 "cells": [
  {
   "cell_type": "code",
   "execution_count": 14,
   "source": [
    "import pandas as pd\r\n",
    "import pickle\r\n",
    "from sklearn.tree import DecisionTreeClassifier\r\n",
    "from sklearn.model_selection import train_test_split\r\n",
    "from sklearn.metrics import accuracy_score\r\n",
    "\r\n",
    "url_data = pd.read_csv('train_test.csv')\r\n",
    "X = url_data.drop(columns=['status'])\r\n",
    "y = url_data['status']\r\n",
    "\r\n",
    "X_train, X_test, y_train, y_test = train_test_split(X,y,test_size=0.2)\r\n",
    "\r\n",
    "model = DecisionTreeClassifier()\r\n",
    "model.fit(X_train, y_train)\r\n",
    "predictions = model.predict(X_test)\r\n",
    "\r\n",
    "score = accuracy_score(y_test, predictions)\r\n",
    "\r\n",
    "pickle.dump(model, open('url_predict','wb'))"
   ],
   "outputs": [
    {
     "output_type": "execute_result",
     "data": {
      "text/plain": [
       "0.9667097144497059"
      ]
     },
     "metadata": {},
     "execution_count": 14
    }
   ],
   "metadata": {}
  }
 ],
 "metadata": {
  "orig_nbformat": 4,
  "language_info": {
   "name": "python",
   "version": "3.9.2",
   "mimetype": "text/x-python",
   "codemirror_mode": {
    "name": "ipython",
    "version": 3
   },
   "pygments_lexer": "ipython3",
   "nbconvert_exporter": "python",
   "file_extension": ".py"
  },
  "kernelspec": {
   "name": "python3",
   "display_name": "Python 3.9.2 64-bit ('venv': venv)"
  },
  "interpreter": {
   "hash": "ab2d612c1a41c61db0b7e6012ad69d302201b7fa7adc54f600daecfbf6a58bf4"
  }
 },
 "nbformat": 4,
 "nbformat_minor": 2
}